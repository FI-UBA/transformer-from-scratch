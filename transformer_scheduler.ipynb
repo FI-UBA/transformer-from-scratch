{
 "cells": [
  {
   "cell_type": "code",
   "execution_count": null,
   "metadata": {},
   "outputs": [],
   "source": [
    "import numpy as np # linear algebra\n",
    "# import pandas as pd # data processing, CSV file I/O (e.g. pd.read_csv)\n",
    "# import os"
   ]
  },
  {
   "cell_type": "code",
   "execution_count": null,
   "metadata": {},
   "outputs": [],
   "source": [
    "import torch\n",
    "import matplotlib.pyplot as plt"
   ]
  },
  {
   "cell_type": "markdown",
   "metadata": {},
   "source": [
    "Attention is all you need - Learning Rate Scheduling\n",
    "\n",
    "\\begin{equation}\n",
    "lrate = d^{-0.5}_{model} \\cdot min(step\\_num^{-0.5}, step\\_num \\cdot warmup\\_steps^{-1.5})\n",
    "\\end{equation}\n",
    "\n",
    "This corresponds to increasing the learning rate linearly for the first *warmup_steps* training steps, and decreasing it thereafter proportionally to the inverse square root of the step number. In the paper was used *warmup_steps=4000*."
   ]
  },
  {
   "cell_type": "code",
   "execution_count": null,
   "metadata": {},
   "outputs": [],
   "source": [
    "step = np.arange(0, 10000, 1)\n",
    "step[0] = 1e-9\n",
    "lrate = 0.0001\n",
    "\n",
    "def lr_schedule(step, d_model=512, warmup_steps=4000):\n",
    "    val = (d_model**-0.5) * np.minimum(np.power(step, -0.5), step*np.power(warmup_steps, -1.5))\n",
    "    return val\n",
    "\n",
    "# Plot the learning rate schedule\n",
    "plt.plot(step, lr_schedule(step, 512))\n",
    "plt.show()\n"
   ]
  },
  {
   "cell_type": "code",
   "execution_count": null,
   "metadata": {},
   "outputs": [],
   "source": [
    "d_model = 512\n",
    "warmup_steps = 4000\n",
    "# lr0 = d_model**-0.5\n",
    "lr0 = 1.0\n",
    "\n",
    "model = torch.nn.Linear(2, 1)\n",
    "optimizer = torch.optim.Adam(model.parameters(), lr=lr0)\n",
    "lambda1 = lambda step: 1 if step <4000 else np.minimum(np.power(step, -0.5), step*np.power(warmup_steps, -1.5))\n",
    "scheduler = torch.optim.lr_scheduler.LambdaLR(optimizer, lr_lambda=lambda1)\n",
    "\n",
    "lrs = []\n",
    "\n",
    "global_step = -1\n",
    "for epoch in range(1000):\n",
    "    for step in range(10):\n",
    "        optimizer.step()\n",
    "        lrs.append(optimizer.param_groups[0][\"lr\"])\n",
    "    #     print(\"Factor = \", round(0.65 ** i,3),\" , Learning Rate = \",round(optimizer.param_groups[0][\"lr\"],3))\n",
    "        scheduler.step()\n",
    "        global_step += 1\n",
    "\n",
    "plt.plot(lrs)"
   ]
  },
  {
   "cell_type": "code",
   "execution_count": null,
   "metadata": {},
   "outputs": [],
   "source": []
  }
 ],
 "metadata": {
  "kernelspec": {
   "display_name": "Python 3 (ipykernel)",
   "language": "python",
   "name": "python3"
  },
  "language_info": {
   "codemirror_mode": {
    "name": "ipython",
    "version": 3
   },
   "file_extension": ".py",
   "mimetype": "text/x-python",
   "name": "python",
   "nbconvert_exporter": "python",
   "pygments_lexer": "ipython3",
   "version": "3.10.12"
  }
 },
 "nbformat": 4,
 "nbformat_minor": 4
}
